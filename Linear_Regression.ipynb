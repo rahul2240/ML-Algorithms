{
  "nbformat": 4,
  "nbformat_minor": 0,
  "metadata": {
    "colab": {
      "name": "Linear_Regression.ipynb",
      "provenance": []
    },
    "kernelspec": {
      "name": "python3",
      "display_name": "Python 3"
    }
  },
  "cells": [
    {
      "cell_type": "markdown",
      "metadata": {
        "id": "w9Az4aXLNliK",
        "colab_type": "text"
      },
      "source": [
        "# Simple Linear Regression"
      ]
    },
    {
      "cell_type": "markdown",
      "metadata": {
        "id": "mnqMgBaIN7Kp",
        "colab_type": "text"
      },
      "source": [
        "**Objective - Find a line that best fits the data**\n",
        "\n",
        "```\n",
        "hx = b0 + b1*x\n",
        "\n",
        "J(b0, b1) = sum((hx - y)^2) / 2n\n",
        "\n",
        "b1 = SSxy / SSxx\n",
        "\n",
        "b0 = mean_y - b1 * mean_x\n",
        "\n",
        "SSxy = sum(x*y) - size(x) * mean_x * mean_y\n",
        "\n",
        "SSxx = sum(x*x) - size(x) * mean_x * mean_x\n",
        "\n",
        "```\n",
        "\n"
      ]
    },
    {
      "cell_type": "code",
      "metadata": {
        "id": "dMwck5AoNc02",
        "colab_type": "code",
        "colab": {}
      },
      "source": [
        "import pandas as pd\n",
        "import numpy as np\n",
        "import matplotlib.pyplot as plt\n"
      ],
      "execution_count": 0,
      "outputs": []
    },
    {
      "cell_type": "code",
      "metadata": {
        "id": "0OX1mq-pNlDV",
        "colab_type": "code",
        "colab": {}
      },
      "source": [
        "dataset = [[1, 2], [2, 4], [3, 9], [4, 8], [5, 12], [6, 17], [7, 21], [8, 56]]"
      ],
      "execution_count": 0,
      "outputs": []
    },
    {
      "cell_type": "code",
      "metadata": {
        "id": "2Cm3g6ONNsIQ",
        "colab_type": "code",
        "colab": {
          "base_uri": "https://localhost:8080/",
          "height": 34
        },
        "outputId": "a6af1371-bebb-4002-df64-abff1407e177"
      },
      "source": [
        "x = np.array([i[0] for i in dataset])\n",
        "y = np.array([i[1] for i in dataset])\n",
        "\n",
        "print(x, y)"
      ],
      "execution_count": 3,
      "outputs": [
        {
          "output_type": "stream",
          "text": [
            "[1 2 3 4 5 6 7 8] [ 2  4  9  8 12 17 21 56]\n"
          ],
          "name": "stdout"
        }
      ]
    },
    {
      "cell_type": "code",
      "metadata": {
        "id": "QEo0dNVENtg9",
        "colab_type": "code",
        "colab": {}
      },
      "source": [
        "def calculate_parameters(x, y):\n",
        "    \n",
        "    n = np.size(x)\n",
        "    \n",
        "    m_x, m_y = np.mean(x), np.mean(y)\n",
        "    \n",
        "    SSxy = np.sum(y*x) - n*m_x*m_y\n",
        "    \n",
        "    SSxx = np.sum(x*x) - n*m_x*m_x\n",
        "    \n",
        "    b1 = SSxy / SSxx\n",
        "    \n",
        "    b0 = m_y - b1 * m_x\n",
        "    \n",
        "    return b0, b1"
      ],
      "execution_count": 0,
      "outputs": []
    },
    {
      "cell_type": "code",
      "metadata": {
        "id": "YUSfdckINv3U",
        "colab_type": "code",
        "colab": {}
      },
      "source": [
        "def plot_line(x, y, b):\n",
        "    \n",
        "    plt.scatter(x, y, color='m', s=30)\n",
        "    \n",
        "    y_pred = b[1]*x + b[0]\n",
        "    \n",
        "    \n",
        "    plt.plot(x, y_pred)\n",
        "    \n",
        "    plt.xlabel('x')\n",
        "    \n",
        "    plt.ylabel('y')\n",
        "    \n",
        "    plt.show()\n",
        "    \n"
      ],
      "execution_count": 0,
      "outputs": []
    },
    {
      "cell_type": "code",
      "metadata": {
        "id": "cFWtNaSvNyDo",
        "colab_type": "code",
        "colab": {
          "base_uri": "https://localhost:8080/",
          "height": 296
        },
        "outputId": "14486018-b52a-43ae-ff6b-3a886c3ffcaa"
      },
      "source": [
        "para = calculate_parameters(x, y)\n",
        "\n",
        "print(para)\n",
        "plot_line(x, y, para)\n"
      ],
      "execution_count": 6,
      "outputs": [
        {
          "output_type": "stream",
          "text": [
            "(-10.178571428571427, 5.845238095238095)\n"
          ],
          "name": "stdout"
        },
        {
          "output_type": "display_data",
          "data": {
            "image/png": "[encoded data removed]",
            "text/plain": [
              "<Figure size 432x288 with 1 Axes>"
            ]
          },
          "metadata": {
            "tags": []
          }
        }
      ]
    },
    {
      "cell_type": "markdown",
      "metadata": {
        "id": "C37dYqBzPhEN",
        "colab_type": "text"
      },
      "source": [
        "# Multiple Linear Regression"
      ]
    },
    {
      "cell_type": "markdown",
      "metadata": {
        "id": "UwD6pNZxPyJO",
        "colab_type": "text"
      },
      "source": [
        "**Here we have a lot of features for a single label**\n",
        "\n",
        "Each feature is transformed into a row and a matrix is formed with rows = no. of input data and columns = length of each row"
      ]
    },
    {
      "cell_type": "markdown",
      "metadata": {
        "id": "vlW0KrHFQS8o",
        "colab_type": "text"
      },
      "source": [
        "x = ![x matrix](https://www.geeksforgeeks.org/wp-content/ql-cache/quicklatex.com-f75095a6db51d533a98e3baf1fa0e984_l3.svg)\n",
        "\n",
        "![y matrix](https://www.geeksforgeeks.org/wp-content/ql-cache/quicklatex.com-d166475424075a7edf48bb0b2e2cb2d3_l3.svg)\n",
        "\n",
        "![alt text](https://www.geeksforgeeks.org/wp-content/ql-cache/quicklatex.com-53a376e9eea268ddd0447ff65a396325_l3.svg)\n",
        "\n",
        "![alt text](https://www.geeksforgeeks.org/wp-content/ql-cache/quicklatex.com-13eb3456642e6393f69813da700518b8_l3.svg)"
      ]
    },
    {
      "cell_type": "code",
      "metadata": {
        "id": "lfsXlwYJPxc3",
        "colab_type": "code",
        "colab": {}
      },
      "source": [
        "from sklearn import linear_model, datasets ,metrics"
      ],
      "execution_count": 0,
      "outputs": []
    },
    {
      "cell_type": "code",
      "metadata": {
        "id": "dxXiZ0h8PkXH",
        "colab_type": "code",
        "colab": {}
      },
      "source": [
        "boston = datasets.load_boston()"
      ],
      "execution_count": 0,
      "outputs": []
    },
    {
      "cell_type": "code",
      "metadata": {
        "id": "XBWS4aQTRdVT",
        "colab_type": "code",
        "colab": {}
      },
      "source": [
        "X = boston.data\n",
        "y = boston.target"
      ],
      "execution_count": 0,
      "outputs": []
    },
    {
      "cell_type": "code",
      "metadata": {
        "id": "ZjLLGhIeReBU",
        "colab_type": "code",
        "colab": {}
      },
      "source": [
        "from sklearn.model_selection import train_test_split"
      ],
      "execution_count": 0,
      "outputs": []
    },
    {
      "cell_type": "code",
      "metadata": {
        "id": "Yuw4coAvRrA0",
        "colab_type": "code",
        "colab": {}
      },
      "source": [
        "X_train, X_test, Y_train, Y_test = train_test_split(X, y, test_size = 0.4, random_state=1)"
      ],
      "execution_count": 0,
      "outputs": []
    },
    {
      "cell_type": "code",
      "metadata": {
        "id": "kccLgEBpSHeo",
        "colab_type": "code",
        "colab": {
          "base_uri": "https://localhost:8080/",
          "height": 34
        },
        "outputId": "4cba84ef-1719-418c-ced6-858eb0ea0582"
      },
      "source": [
        "reg = linear_model.LinearRegression()\n",
        "\n",
        "reg.fit(X_train, Y_train)"
      ],
      "execution_count": 16,
      "outputs": [
        {
          "output_type": "execute_result",
          "data": {
            "text/plain": [
              "LinearRegression(copy_X=True, fit_intercept=True, n_jobs=None, normalize=False)"
            ]
          },
          "metadata": {
            "tags": []
          },
          "execution_count": 16
        }
      ]
    },
    {
      "cell_type": "code",
      "metadata": {
        "id": "A6N5oVx7SN2a",
        "colab_type": "code",
        "colab": {
          "base_uri": "https://localhost:8080/",
          "height": 85
        },
        "outputId": "e5a6d9c4-f53a-4db4-d82b-93537b0122d6"
      },
      "source": [
        "print(\"regression coefficients\", reg.coef_)"
      ],
      "execution_count": 18,
      "outputs": [
        {
          "output_type": "stream",
          "text": [
            "regression coefficients [-8.95714048e-02  6.73132853e-02  5.04649248e-02  2.18579583e+00\n",
            " -1.72053975e+01  3.63606995e+00  2.05579939e-03 -1.36602886e+00\n",
            "  2.89576718e-01 -1.22700072e-02 -8.34881849e-01  9.40360790e-03\n",
            " -5.04008320e-01]\n"
          ],
          "name": "stdout"
        }
      ]
    },
    {
      "cell_type": "code",
      "metadata": {
        "id": "5MhQHJnhSTPX",
        "colab_type": "code",
        "colab": {
          "base_uri": "https://localhost:8080/",
          "height": 34
        },
        "outputId": "4f5c7006-6918-420d-e94f-aa3bac787311"
      },
      "source": [
        "print(\"variance score\", reg.score(X_test, Y_test))"
      ],
      "execution_count": 22,
      "outputs": [
        {
          "output_type": "stream",
          "text": [
            "variance score 0.7209056672661777\n"
          ],
          "name": "stdout"
        }
      ]
    },
    {
      "cell_type": "code",
      "metadata": {
        "id": "Mu498BR7Sok4",
        "colab_type": "code",
        "colab": {
          "base_uri": "https://localhost:8080/",
          "height": 303
        },
        "outputId": "09424380-70f3-405f-fd2a-e7bb857d7c89"
      },
      "source": [
        "plt.style.use('fivethirtyeight') \n",
        "\n",
        "\n",
        "plt.scatter(reg.predict(X_train), reg.predict(X_train) - Y_train, color = 'green', s=10, label = 'Train data')\n",
        "\n",
        "plt.scatter(reg.predict(X_test), reg.predict(X_test) - Y_test, color = 'red', s = 10, label = 'Test data')\n",
        "\n",
        "plt.legend(loc = 'upper right')\n",
        "\n",
        "plt.title('Residual Error')\n",
        "\n",
        "plt.show()"
      ],
      "execution_count": 33,
      "outputs": [
        {
          "output_type": "display_data",
          "data": {
            "image/png": "[encoded data removed]",
            "text/plain": [
              "<Figure size 432x288 with 1 Axes>"
            ]
          },
          "metadata": {
            "tags": []
          }
        }
      ]
    },
    {
      "cell_type": "code",
      "metadata": {
        "id": "FmXYV3k3TGHK",
        "colab_type": "code",
        "colab": {}
      },
      "source": [
        ""
      ],
      "execution_count": 0,
      "outputs": []
    }
  ]
}